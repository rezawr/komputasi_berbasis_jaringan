{
 "cells": [
  {
   "cell_type": "code",
   "execution_count": 10,
   "metadata": {},
   "outputs": [],
   "source": [
    "import statistics\n",
    "import pandas as pd\n",
    "import seaborn as sns\n",
    "import matplotlib.pyplot as plt\n",
    "import numpy as np\n",
    "\n",
    "from imblearn.pipeline import Pipeline\n",
    "from imblearn.over_sampling import SMOTE\n",
    "\n",
    "from sklearn.feature_extraction.text import CountVectorizer\n",
    "from sklearn.feature_extraction.text import TfidfTransformer\n",
    "from sklearn.model_selection import cross_validate, train_test_split\n",
    "\n",
    "from sklearn.naive_bayes import MultinomialNB"
   ]
  },
  {
   "cell_type": "code",
   "execution_count": null,
   "metadata": {},
   "outputs": [],
   "source": [
    "result = []\n",
    "\n",
    "# Looping to find how number of datasets impacted on accuracy\n",
    "# Load dataset\n",
    "df = pd.read_csv('datasets/movie.csv')\n",
    "# Splitting Dataset\n",
    "X_train, X_test, y_train, y_test = train_test_split(df['text'], df['label'], random_state=42, train_size=20000)\n",
    "\n",
    "# Build the model\n",
    "textclassifier = Pipeline([\n",
    "    ('vect', CountVectorizer()),\n",
    "    ('tfidf', TfidfTransformer()),\n",
    "    ('smote', SMOTE(random_state=12)),\n",
    "    ('nb', MultinomialNB())\n",
    "])\n",
    "\n",
    "# Train the data\n",
    "textclassifier.fit(X_train, y_train)\n",
    "\n",
    "# Scoring parameter that we want to analysis\n",
    "scoring = ['precision_macro', 'recall_macro', 'f1_macro', 'accuracy']\n",
    "# 10 fold cross validation\n",
    "scores = cross_validate(textclassifier, df['text'], df['label'], scoring=scoring)\n",
    "\n",
    "# save the result of prediction into variabel result\n",
    "result.append({\n",
    "    'dataset': 20000,\n",
    "    'scores': scores\n",
    "})"
   ]
  },
  {
   "cell_type": "code",
   "execution_count": null,
   "metadata": {},
   "outputs": [],
   "source": [
    "precision_macro = result[0]['scores']['test_precision_macro']\n",
    "\n",
    "print('Precision (macro):', precision_macro)\n",
    "print('Precision Mean:', statistics.mean(precision_macro))\n",
    "print('Precision Stdev:', statistics.stdev(precision_macro))"
   ]
  },
  {
   "cell_type": "code",
   "execution_count": null,
   "metadata": {},
   "outputs": [],
   "source": [
    "recall_macro = result[0]['scores']['test_recall_macro']\n",
    "\n",
    "print('Recall (macro):', recall_macro)\n",
    "print('Recall Mean:', statistics.mean(recall_macro))\n",
    "print('Recall Stdev:', statistics.stdev(recall_macro))"
   ]
  },
  {
   "cell_type": "code",
   "execution_count": null,
   "metadata": {},
   "outputs": [],
   "source": [
    "f1_macro = result[0]['scores']['test_f1_macro']\n",
    "\n",
    "print('f1 (macro):', f1_macro)\n",
    "print('f1 Mean:', statistics.mean(f1_macro))\n",
    "print('f1 Stdev:', statistics.stdev(f1_macro))"
   ]
  },
  {
   "cell_type": "code",
   "execution_count": null,
   "metadata": {},
   "outputs": [],
   "source": [
    "accuracy = result[0]['scores']['test_accuracy']\n",
    "\n",
    "print('Accuracy:', accuracy)\n",
    "print('f1 Mean:', statistics.mean(accuracy))\n",
    "print('f1 Stdev:', statistics.stdev(accuracy))"
   ]
  }
 ],
 "metadata": {
  "kernelspec": {
   "display_name": "Python 3 (ipykernel)",
   "language": "python",
   "name": "python3"
  },
  "language_info": {
   "codemirror_mode": {
    "name": "ipython",
    "version": 3
   },
   "file_extension": ".py",
   "mimetype": "text/x-python",
   "name": "python",
   "nbconvert_exporter": "python",
   "pygments_lexer": "ipython3",
   "version": "3.8.10"
  }
 },
 "nbformat": 4,
 "nbformat_minor": 2
}
