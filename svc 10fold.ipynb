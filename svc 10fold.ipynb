{
 "cells": [
  {
   "cell_type": "code",
   "execution_count": 1,
   "id": "2e417a86",
   "metadata": {},
   "outputs": [],
   "source": [
    "import pandas as pd\n",
    "import seaborn as sns\n",
    "import matplotlib.pyplot as plt\n",
    "import numpy as np\n",
    "\n",
    "from imblearn.pipeline import Pipeline\n",
    "\n",
    "from sklearn.feature_extraction.text import CountVectorizer\n",
    "from sklearn.feature_extraction.text import TfidfTransformer\n",
    "from sklearn.model_selection import cross_validate, train_test_split\n",
    "\n",
    "from sklearn.svm import SVC\n",
    "\n",
    "\n"
   ]
  },
  {
   "cell_type": "code",
   "execution_count": null,
   "id": "a7586079",
   "metadata": {},
   "outputs": [
    {
     "name": "stdout",
     "output_type": "stream",
     "text": [
      "[LibSVM][LibSVM][LibSVM][LibSVM][LibSVM]"
     ]
    }
   ],
   "source": [
    "if __name__ == \"__main__\":\n",
    "    result = []\n",
    "\n",
    "    # Looping to find how number of datasets impacted on accuracy\n",
    "    x = 1000\n",
    "    # Load dataset\n",
    "    df = pd.read_csv('D:\\SELURUH DATA S2\\Koding_Kopmputasi_berbasis_jaringan\\sentiment amalysis dataset\\movie.csv')\n",
    "\n",
    "    # Splitting Dataset\n",
    "    X_train, X_test, y_train, y_test = train_test_split(df['text'], df['label'], random_state=42, train_size=x)\n",
    "\n",
    "    # Build the model\n",
    "    textclassifier = Pipeline([\n",
    "        ('vect', CountVectorizer()),\n",
    "        ('tfidf', TfidfTransformer()),\n",
    "        ('svc', SVC(kernel='linear', C=1, random_state=0, verbose=1))\n",
    "        ])\n",
    "\n",
    "    # Train the data\n",
    "    textclassifier.fit(X_train, y_train)\n",
    "\n",
    "    # Scoring parameter that we want to analysis\n",
    "    scoring = ['precision_macro', 'recall_macro', 'f1_macro', 'accuracy']\n",
    "    # 10 fold cross validation\n",
    "    scores = cross_validate(textclassifier, df['text'], df['label'], scoring=scoring)\n",
    "\n",
    "    # save the result of prediction into variabel result\n",
    "    result.append({\n",
    "        'dataset': x,\n",
    "        'scores': scores\n",
    "    })\n",
    "\n",
    "    "
   ]
  },
  {
   "cell_type": "code",
   "execution_count": null,
   "id": "55123eb0",
   "metadata": {},
   "outputs": [],
   "source": []
  },
  {
   "cell_type": "code",
   "execution_count": null,
   "id": "29032c69",
   "metadata": {},
   "outputs": [],
   "source": []
  }
 ],
 "metadata": {
  "kernelspec": {
   "display_name": "Python 3 (ipykernel)",
   "language": "python",
   "name": "python3"
  },
  "language_info": {
   "codemirror_mode": {
    "name": "ipython",
    "version": 3
   },
   "file_extension": ".py",
   "mimetype": "text/x-python",
   "name": "python",
   "nbconvert_exporter": "python",
   "pygments_lexer": "ipython3",
   "version": "3.9.13"
  }
 },
 "nbformat": 4,
 "nbformat_minor": 5
}
