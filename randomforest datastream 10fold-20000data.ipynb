{
 "cells": [
  {
   "cell_type": "code",
   "execution_count": 1,
   "id": "4a648f92",
   "metadata": {},
   "outputs": [],
   "source": [
    "import pandas as pd\n",
    "import seaborn as sns\n",
    "import matplotlib.pyplot as plt\n",
    "import numpy as np\n",
    "\n",
    "from imblearn.pipeline import Pipeline\n",
    "\n",
    "from sklearn.feature_extraction.text import CountVectorizer\n",
    "from sklearn.feature_extraction.text import TfidfTransformer\n",
    "from sklearn.model_selection import cross_validate, train_test_split\n",
    "\n",
    "from sklearn.ensemble import RandomForestClassifier\n",
    "\n",
    "\n"
   ]
  },
  {
   "cell_type": "code",
   "execution_count": 2,
   "id": "6d1a7136",
   "metadata": {},
   "outputs": [
    {
     "name": "stderr",
     "output_type": "stream",
     "text": [
      "'gdown' is not recognized as an internal or external command,\n",
      "operable program or batch file.\n"
     ]
    }
   ],
   "source": [
    "!gdown \"1G1iAwK9NsxHNIYXnUT33wRFcjt0ptQJX\""
   ]
  },
  {
   "cell_type": "code",
   "execution_count": 3,
   "id": "a5a78fcb",
   "metadata": {},
   "outputs": [],
   "source": [
    "if __name__ == \"__main__\":\n",
    "    result = []\n",
    "\n",
    "    # Looping to find how number of datasets impacted on accuracy\n",
    "    # Load dataset\n",
    "    df = pd.read_csv('D:\\SELURUH DATA S2\\Koding_Kopmputasi_berbasis_jaringan\\sentiment amalysis dataset\\movie.csv')\n",
    "    x=20000\n",
    "    # Splitting Dataset\n",
    "    X_train, X_test, y_train, y_test = train_test_split(df['text'], df['label'], random_state=42, train_size=x)\n",
    "\n",
    "    # Build the model\n",
    "    textclassifier = Pipeline([\n",
    "        ('vect', CountVectorizer()),\n",
    "        ('tfidf', TfidfTransformer()),\n",
    "        ('rf', RandomForestClassifier())\n",
    "    ])\n",
    "\n",
    "    # Train the data\n",
    "    textclassifier.fit(X_train, y_train)\n",
    "\n",
    "    # Scoring parameter that we want to analysis\n",
    "    scoring = ['precision_macro', 'recall_macro', 'f1_macro', 'accuracy']\n",
    "    # 10 fold cross validation\n",
    "    scores = cross_validate(textclassifier, df['text'], df['label'], scoring=scoring)\n",
    "\n",
    "    # save the result of prediction into variabel result\n",
    "    result.append({\n",
    "        'dataset': x,\n",
    "        'scores': scores\n",
    "    })"
   ]
  },
  {
   "cell_type": "code",
   "execution_count": 4,
   "id": "4c0a96b7",
   "metadata": {},
   "outputs": [
    {
     "name": "stdout",
     "output_type": "stream",
     "text": [
      "Precision (macro): [0.8448749  0.84500003 0.84237695 0.8403143  0.84640572]\n"
     ]
    }
   ],
   "source": [
    "precision_macro = result[0]['scores']['test_precision_macro']\n",
    "print('Precision (macro):', precision_macro)"
   ]
  },
  {
   "cell_type": "code",
   "execution_count": 5,
   "id": "80a34708",
   "metadata": {},
   "outputs": [
    {
     "name": "stdout",
     "output_type": "stream",
     "text": [
      "recall (macro): [0.84487522 0.84499959 0.84224034 0.84024309 0.84624204]\n"
     ]
    }
   ],
   "source": [
    "recall_macro = result[0]['scores']['test_recall_macro']\n",
    "print('recall (macro):', recall_macro)"
   ]
  },
  {
   "cell_type": "code",
   "execution_count": 6,
   "id": "68d5577d",
   "metadata": {},
   "outputs": [
    {
     "name": "stdout",
     "output_type": "stream",
     "text": [
      "f1 (macro): [0.84487494 0.84499976 0.84223261 0.8402404  0.84623054]\n"
     ]
    }
   ],
   "source": [
    "f1_macro = result[0]['scores']['test_f1_macro']\n",
    "print('f1 (macro):', f1_macro)"
   ]
  },
  {
   "cell_type": "code",
   "execution_count": 7,
   "id": "6122d97e",
   "metadata": {},
   "outputs": [
    {
     "name": "stdout",
     "output_type": "stream",
     "text": [
      "accuracy: [0.844875 0.845    0.84225  0.84025  0.84625 ]\n"
     ]
    }
   ],
   "source": [
    "accuracy = result[0]['scores']['test_accuracy']\n",
    "print('accuracy:', accuracy)"
   ]
  },
  {
   "cell_type": "code",
   "execution_count": null,
   "id": "97ad2595",
   "metadata": {},
   "outputs": [],
   "source": []
  }
 ],
 "metadata": {
  "kernelspec": {
   "display_name": "Python 3 (ipykernel)",
   "language": "python",
   "name": "python3"
  },
  "language_info": {
   "codemirror_mode": {
    "name": "ipython",
    "version": 3
   },
   "file_extension": ".py",
   "mimetype": "text/x-python",
   "name": "python",
   "nbconvert_exporter": "python",
   "pygments_lexer": "ipython3",
   "version": "3.9.13"
  }
 },
 "nbformat": 4,
 "nbformat_minor": 5
}
