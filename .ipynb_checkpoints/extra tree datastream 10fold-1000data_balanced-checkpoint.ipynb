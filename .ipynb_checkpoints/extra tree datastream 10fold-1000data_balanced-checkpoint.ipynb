{
 "cells": [
  {
   "cell_type": "code",
   "execution_count": 1,
   "metadata": {},
   "outputs": [],
   "source": [
    "import pandas as pd\n",
    "import seaborn as sns\n",
    "import matplotlib.pyplot as plt\n",
    "import numpy as np\n",
    "\n",
    "from imblearn.pipeline import Pipeline\n",
    "\n",
    "from sklearn.feature_extraction.text import CountVectorizer\n",
    "from sklearn.feature_extraction.text import TfidfTransformer\n",
    "from sklearn.model_selection import cross_validate, train_test_split\n",
    "\n",
    "from sklearn.ensemble import ExtraTreesClassifier"
   ]
  },
  {
   "cell_type": "code",
   "execution_count": null,
   "metadata": {},
   "outputs": [],
   "source": [
    "result = []\n",
    "\n",
    "# Looping to find how number of datasets impacted on accuracy\n",
    "# Load dataset\n",
    "df = pd.read_csv('datasets/movie.csv')\n",
    "\n",
    "x=1000\n",
    "# Splitting Dataset\n",
    "X_train, X_test, y_train, y_test = train_test_split(df['text'], df['label'], random_state=42, train_size=x)\n",
    "\n",
    "# Build the model\n",
    "textclassifier = Pipeline([\n",
    "    ('vect', CountVectorizer()),\n",
    "    ('tfidf', TfidfTransformer()),\n",
    "    ('et', ExtraTreesClassifier())\n",
    "])\n",
    "\n",
    "# Train the data\n",
    "textclassifier.fit(X_train, y_train)\n",
    "\n",
    "# Scoring parameter that we want to analysis\n",
    "scoring = ['precision_macro', 'recall_macro', 'f1_macro', 'accuracy']\n",
    "# 10 fold cross validation\n",
    "scores = cross_validate(textclassifier, df['text'], df['label'], scoring=scoring)\n",
    "\n",
    "# save the result of prediction into variabel result\n",
    "result.append({\n",
    "    'dataset': x,\n",
    "    'scores': scores\n",
    "})"
   ]
  }
 ],
 "metadata": {
  "kernelspec": {
   "display_name": "Python 3 (ipykernel)",
   "language": "python",
   "name": "python3"
  },
  "language_info": {
   "codemirror_mode": {
    "name": "ipython",
    "version": 3
   },
   "file_extension": ".py",
   "mimetype": "text/x-python",
   "name": "python",
   "nbconvert_exporter": "python",
   "pygments_lexer": "ipython3",
   "version": "3.8.10"
  }
 },
 "nbformat": 4,
 "nbformat_minor": 2
}
